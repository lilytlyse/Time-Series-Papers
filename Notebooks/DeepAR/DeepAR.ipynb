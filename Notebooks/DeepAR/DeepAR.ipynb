{
 "cells": [
  {
   "cell_type": "markdown",
   "metadata": {
    "collapsed": true
   },
   "source": [
    "# DeepAR\n",
    "\n",
    "[DeepAR: Probabilistic Forecasting with Autoregressive Recurrent Networks](https://arxiv.org/abs/1704.04110)\n",
    "\n",
    "DeepAR, a methodology for producing accurate **probabilistic forecasts**, based on\n",
    "training an **auto-regressive recurrent network model** on a large number of related\n",
    "time series.\n",
    "\n",
    "## Introduction\n",
    "Using data from **related time series** not only allows fitting more complex (and hence potentially more accurate) models without overfitting, it can also alleviate the time and labor intensive manual feature engineering and model selection steps required by classical techniques.\n",
    "\n",
    "Our method builds upon previous work on deep learning for time series data [9, 21, 22]\n",
    "\n",
    "The main contributions:\n",
    "\n",
    "(1)we propose an RNN architecture for probabilistic forecasting\n",
    "\n",
    "(2)we demonstrate empirically on several real-world data sets that this model produces accurate probabilistic forecasts across a range of input characteristics\n",
    "\n",
    "Key advantages:\n",
    "\n",
    "(1)minimal manual feature engineering is needed to capture complex, group-dependent behavior\n",
    "\n",
    "(2)can be used to compute consistent quantile estimates for all sub-ranges in the prediction horizon\n",
    "\n",
    "(3)our method is able to provide forecasts for items with little or no history at all\n",
    "\n",
    "(4)allow the user to choose one that is appropriate for the statistical properties of the data\n",
    "\n",
    "\n",
    "## Model\n",
    "\n",
    "Goal is to model the conditional distribution\n",
    "\n",
    "![img](01.png)\n",
    "\n",
    "![img](03.png)\n",
    "\n",
    "![img](02.png)\n",
    "\n",
    "\n",
    "From the picture we can know, for training, $z_{i,t-1}$ and $x_{i,t}$is used to compute $h_{i,t}$. For prediction, $\\tilde{z}_{i,t_{0}-1} = z_{i,t_{0}-1}$, $\\tilde{z}_{i,t-1}$ and $x_{i,t}$ is used to compute $h_{i,t}$.\n",
    "\n",
    "$\\tilde{z}_{i,t}$ is computed iteratively. $\\tilde{z}_{i,t-1}$ is used to computed  $h_{i,t}$ and $h_{i,t}$ is used to computed $\\tilde{z}_{i,t}$\n",
    "\n",
    "\n",
    "## Training\n",
    "\n",
    "Objective function is maximizing the log-likelihood:\n",
    "\n",
    "![img](04.png)\n",
    "\n",
    "## Applications and Experiments"
   ]
  },
  {
   "cell_type": "markdown",
   "metadata": {},
   "source": []
  }
 ],
 "metadata": {
  "kernelspec": {
   "display_name": "Python 3",
   "language": "python",
   "name": "python3"
  },
  "language_info": {
   "codemirror_mode": {
    "name": "ipython",
    "version": 3
   },
   "file_extension": ".py",
   "mimetype": "text/x-python",
   "name": "python",
   "nbconvert_exporter": "python",
   "pygments_lexer": "ipython3",
   "version": "3.8.8"
  }
 },
 "nbformat": 4,
 "nbformat_minor": 1
}
