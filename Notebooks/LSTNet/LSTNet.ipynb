{
 "cells": [
  {
   "cell_type": "markdown",
   "id": "615f5982",
   "metadata": {},
   "source": [
    "# LSTNet\n",
    "\n",
    "## ABSTRACT\n",
    "\n",
    "To address a mixture of long-term and short-term patterns.\n",
    "\n",
    "## 1 INTRODUCTION\n",
    "\n",
    "As another example, consider the task of predicting the output of a solar energy farm based on the measured solar radiation by massive sensors over different locations. The long-term patterns reflect the differenc between days vs. nights, summer vs. winter, etc., and the short term patterns reflect the effects of cloud movements, wind direction changes, etc.\n",
    "\n",
    "\n",
    "It leverages the strengths of both the convolutional layer to discover the local dependency patterns among multi-dimensional input variables and the recurrent layer to captures complex long-term dependencies.\n",
    "\n",
    "Recurrent-skip, is designed for capturing very long-term dependence patterns and making the optimization easier as it utilizes the periodic property of the input time series signals."
   ]
  },
  {
   "cell_type": "code",
   "execution_count": null,
   "id": "81060865",
   "metadata": {},
   "outputs": [],
   "source": []
  }
 ],
 "metadata": {
  "kernelspec": {
   "display_name": "Python 3",
   "language": "python",
   "name": "python3"
  },
  "language_info": {
   "codemirror_mode": {
    "name": "ipython",
    "version": 3
   },
   "file_extension": ".py",
   "mimetype": "text/x-python",
   "name": "python",
   "nbconvert_exporter": "python",
   "pygments_lexer": "ipython3",
   "version": "3.8.8"
  }
 },
 "nbformat": 4,
 "nbformat_minor": 5
}
