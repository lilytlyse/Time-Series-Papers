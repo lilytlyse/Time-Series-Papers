{
 "cells": [
  {
   "cell_type": "markdown",
   "id": "615f5982",
   "metadata": {},
   "source": [
    "# LSTNet\n",
    "\n",
    "\n",
    "[Modeling Long- and Short-Term Temporal Patterns with Deep Neural Networks](https://arxiv.org/abs/1703.07015)\n",
    "\n",
    "## ABSTRACT\n",
    "\n",
    "To address a mixture of long-term and short-term patterns.\n",
    "\n",
    "## 1 INTRODUCTION\n",
    "\n",
    "As another example, consider the task of predicting the output of a solar energy farm based on the measured solar radiation by massive sensors over different locations. The long-term patterns reflect the differenc between days vs. nights, summer vs. winter, etc., and the short term patterns reflect the effects of cloud movements, wind direction changes, etc.\n",
    "\n",
    "\n",
    "It leverages the strengths of both the convolutional layer to discover the local dependency patterns among multi-dimensional input variables and the recurrent layer to captures complex long-term dependencies.\n",
    "\n",
    "Recurrent-skip, is designed for capturing very long-term dependence patterns and making the optimization easier as it utilizes the periodic property of the input time series signals.\n",
    "\n",
    "## 3 FRAMEWORK\n",
    "\n",
    "![img](01.JPG)\n",
    "\n",
    "### 3.2 Convolutional Component\n",
    "![img](02.JPG)\n",
    "\n",
    "### 3.3 Recurrent Component\n",
    "![img](03.JPG)\n",
    "\n",
    "### 3.4 Recurrent-skip Component\n",
    "![img](04.JPG)\n",
    "\n",
    "### Combine\n",
    "![img](05.JPG)\n",
    "\n",
    "### 3.5 Temporal Attention Layer\n",
    "![img](06.JPG)\n",
    "\n",
    "![img](07.JPG)\n",
    "\n",
    "### 3.6 Autoregressive Component\n",
    "![img](08.JPG)\n",
    "\n",
    "\n",
    "\n",
    "## Summery\n",
    "\n",
    "CNN + Recurrent Skip + Recurrent   /    Attention + AR \n",
    "\n",
    "Just a little improvement than RNN+GRU, but use more complex structure"
   ]
  },
  {
   "cell_type": "code",
   "execution_count": null,
   "id": "693f4c91",
   "metadata": {},
   "outputs": [],
   "source": []
  }
 ],
 "metadata": {
  "kernelspec": {
   "display_name": "Python 3",
   "language": "python",
   "name": "python3"
  },
  "language_info": {
   "codemirror_mode": {
    "name": "ipython",
    "version": 3
   },
   "file_extension": ".py",
   "mimetype": "text/x-python",
   "name": "python",
   "nbconvert_exporter": "python",
   "pygments_lexer": "ipython3",
   "version": "3.8.8"
  }
 },
 "nbformat": 4,
 "nbformat_minor": 5
}
