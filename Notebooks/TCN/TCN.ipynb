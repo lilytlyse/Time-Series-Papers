{
 "cells": [
  {
   "cell_type": "markdown",
   "metadata": {},
   "source": [
    "# TCN\n",
    "\n",
    "[An Empirical Evaluation of Generic Convolutional and Recurrent Networks for Sequence Modeling](https://arxiv.org/abs/1803.01271)\n",
    "\n",
    "## Abstract\n",
    "\n",
    "Our results indicate that a simple convolutional architecture outperforms canonical recurrent networks such as LSTMs across a diverse range of tasks and datasets, while demonstrating longer effective memory.\n",
    "\n",
    "## 1 Introduction\n",
    "This architecture is informed by recent research, but is deliberately kept simple, combining some of the best practices of modern convolutional architectures.\n",
    "\n",
    "The results suggest that TCNs convincingly outperform baseline recurrent architectures across a broad range of sequence modeling tasks.\n",
    "\n",
    "## 3 Temporal Convolutional Networks\n",
    "Our aim is to distill the best practices in convolutional network design into a simple architecture that can serve as a convenient but powerful starting point.\n",
    "\n",
    "The distinguishing characteristics of TCNs are:\n",
    "\n",
    "- The convolutions in the architecture are causal, meaning that there is no information “leakage” from future to past;\n",
    "- The architecture can take a sequence of any length and map it to an output sequence of the same length, just as with an RNN.\n",
    "- We emphasize how to build very long effective history sizes we emphasize how to build very long effective history sizes using a combination of very deep networks (augmented with residual layers) and dilated convolutions.\n",
    "\n",
    "### 3.1. Sequence Modeling\n",
    "![img](01.jpg)"
   ]
  },
  {
   "cell_type": "code",
   "execution_count": null,
   "metadata": {},
   "outputs": [],
   "source": []
  }
 ],
 "metadata": {
  "kernelspec": {
   "display_name": "Python 3",
   "language": "python",
   "name": "python3"
  },
  "language_info": {
   "codemirror_mode": {
    "name": "ipython",
    "version": 3
   },
   "file_extension": ".py",
   "mimetype": "text/x-python",
   "name": "python",
   "nbconvert_exporter": "python",
   "pygments_lexer": "ipython3",
   "version": "3.6.5"
  }
 },
 "nbformat": 4,
 "nbformat_minor": 2
}
