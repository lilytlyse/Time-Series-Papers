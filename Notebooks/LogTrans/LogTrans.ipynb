{
 "cells": [
  {
   "cell_type": "markdown",
   "id": "62a18c4c",
   "metadata": {},
   "source": [
    "# LogTrans\n",
    "\n",
    "\n",
    "[Enhancing the Locality and Breaking the Memory Bottleneck of Transformer on Time Series Forecasting](https://arxiv.org/abs/1907.00235)\n",
    "\n",
    "## Abstract\n",
    "\n",
    "Two major weakness of canonical Transformer architecture:\n",
    "- locality-agnostics  局部不可知\n",
    "- memory bottleneck  内存瓶颈"
   ]
  },
  {
   "cell_type": "code",
   "execution_count": null,
   "id": "1524f684",
   "metadata": {},
   "outputs": [],
   "source": []
  }
 ],
 "metadata": {
  "kernelspec": {
   "display_name": "Python 3",
   "language": "python",
   "name": "python3"
  },
  "language_info": {
   "codemirror_mode": {
    "name": "ipython",
    "version": 3
   },
   "file_extension": ".py",
   "mimetype": "text/x-python",
   "name": "python",
   "nbconvert_exporter": "python",
   "pygments_lexer": "ipython3",
   "version": "3.8.8"
  }
 },
 "nbformat": 4,
 "nbformat_minor": 5
}
